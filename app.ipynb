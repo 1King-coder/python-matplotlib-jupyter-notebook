{
 "cells": [
  {
   "cell_type": "code",
   "execution_count": 55,
   "metadata": {},
   "outputs": [],
   "source": [
    "from math import *\r\n",
    "\r\n",
    "class Point:\r\n",
    "    def __init__(self, coordenates: tuple) -> None:\r\n",
    "        self.x = coordenates[0]\r\n",
    "        self.y = coordenates[1]\r\n",
    "\r\n",
    "class Straight:\r\n",
    "    def __init__(self, point_1: Point, point_2: Point) -> None:\r\n",
    "        self.p1x, self.p1y = point_1.x, point_1.y\r\n",
    "        self.p2x, self.p2y = point_2.x, point_2.y\r\n",
    "\r\n",
    "    \r\n",
    "    @property\r\n",
    "    def distance(self) -> int or float:\r\n",
    "        return ((self.p1x - self.p2x)**2 + (self.p1y - self.p2y)**2)**0.5\r\n",
    "\r\n",
    "    @staticmethod\r\n",
    "    def angular_coeficient(angle: float or int) -> float or int:\r\n",
    "        return tan(radians(angle))\r\n",
    "\r\n",
    "    @staticmethod\r\n",
    "    def rel_point(ref_point: Point, distance: int or float, angle: float or int, angular_coef: float or int = None) -> list:\r\n",
    "        \r\n",
    "        p1x_coordenate = ref_point.x + ((distance**2)/((Straight.angular_coeficient(angle)**2)+1))**0.5\r\n",
    "        p2x_coordenate = ref_point.x - ((distance**2)/((Straight.angular_coeficient(angle)**2)+1))**0.5\r\n",
    "        \r\n",
    "        if angular_coef: \r\n",
    "            p1x_coordenate = ref_point.x + ((distance**2)/((angular_coef**2)+1))**0.5\r\n",
    "            p2x_coordenate = ref_point.x - ((distance**2)/((angular_coef**2)+1))**0.5\r\n",
    "\r\n",
    "        p1y_coordenate = ref_point.y - Straight.angular_coeficient(angle)*(ref_point.x - p1x_coordenate)\r\n",
    "        p2y_coordenate = ref_point.y - Straight.angular_coeficient(angle)*(ref_point.x - p2x_coordenate)\r\n",
    "\r\n",
    "        return [Point((p1x_coordenate, p1y_coordenate)), Point((p2x_coordenate, p2y_coordenate))]\r\n"
   ]
  },
  {
   "cell_type": "code",
   "execution_count": 88,
   "metadata": {},
   "outputs": [
    {
     "data": {
      "text/plain": [
       "[<matplotlib.lines.Line2D at 0x197b48d9550>]"
      ]
     },
     "execution_count": 88,
     "metadata": {},
     "output_type": "execute_result"
    },
    {
     "data": {
      "image/png": "[encoded data removed]",
      "text/plain": [
       "<Figure size 432x288 with 1 Axes>"
      ]
     },
     "metadata": {
      "needs_background": "light"
     },
     "output_type": "display_data"
    }
   ],
   "source": [
    "import matplotlib.pyplot as plt\r\n",
    "import numpy as np\r\n",
    "def my_plotter(ax, data1, data2, param_dict):\r\n",
    "\r\n",
    "    out = ax.plot(data1, data2, **param_dict)\r\n",
    "    return out\r\n",
    "    \r\n",
    "\r\n",
    "fig, ax = plt.subplots(1, 1)\r\n",
    "\r\n",
    "ref_point = Point((0, 0))\r\n",
    "rel_point = Straight.rel_point(p1, 6, 45)\r\n",
    "\r\n",
    "rel_point_1 = Straight.rel_point(p1, rel_point[0].x/2, 0)\r\n",
    "\r\n",
    "my_plotter(ax, (ref_point.x, rel_point[0].x), (ref_point.y, rel_point[0].y),{ 'marker':'o' })\r\n",
    "my_plotter(ax, (ref_point.x, rel_point[1].x), (ref_point.y, rel_point[1].y),{ 'marker':'o' })\r\n",
    "\r\n",
    "my_plotter(ax, (ref_point.x, rel_point_1[0].x), (ref_point.y, rel_point_1[0].y),{ 'marker':'o' })\r\n",
    "my_plotter(ax, (ref_point.x, rel_point_1[1].x), (ref_point.y, rel_point_1[1].y),{ 'marker':'o' })\r\n",
    "\r\n",
    "    \r\n",
    "    \r\n",
    "\r\n",
    "\r\n",
    "\r\n",
    "\r\n"
   ]
  }
 ],
 "metadata": {
  "interpreter": {
   "hash": "0cd195dec2d2b25f4194f6ff4568186c7cceaad69311a3e0955b7fa0f8484170"
  },
  "kernelspec": {
   "display_name": "Python 3.9.1 64-bit ('arquivos-kZNpVHGx': virtualenvwrapper)",
   "name": "python3"
  },
  "language_info": {
   "codemirror_mode": {
    "name": "ipython",
    "version": 3
   },
   "file_extension": ".py",
   "mimetype": "text/x-python",
   "name": "python",
   "nbconvert_exporter": "python",
   "pygments_lexer": "ipython3",
   "version": "3.9.1"
  },
  "orig_nbformat": 4
 },
 "nbformat": 4,
 "nbformat_minor": 2
}