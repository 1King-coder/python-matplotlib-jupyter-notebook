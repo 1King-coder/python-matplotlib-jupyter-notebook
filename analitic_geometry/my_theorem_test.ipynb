{
 "cells": [
  {
   "cell_type": "markdown",
   "metadata": {},
   "source": [
    "<h1>My theorem (\"Vitor S. B.'s Theorem\")</h1>\r\n",
    "<img src=\"./images/My-Theorem =).png\" style=\"height: 10vh;\">"
   ]
  },
  {
   "cell_type": "code",
   "execution_count": 3,
   "metadata": {},
   "outputs": [
    {
     "data": {
      "image/png": "[encoded data removed]",
      "text/plain": [
       "<Figure size 432x288 with 1 Axes>"
      ]
     },
     "metadata": {
      "needs_background": "light"
     },
     "output_type": "display_data"
    }
   ],
   "source": [
    "if __name__ == \"__main__\":\r\n",
    "    import matplotlib.pyplot as plt\r\n",
    "    from modules.Theorem import *\r\n",
    "    \r\n",
    "    def my_plotter(ax, data1, data2, param_dict={ 'marker':'o' }):\r\n",
    "\r\n",
    "        out = ax.plot(data1, data2, **param_dict)\r\n",
    "        return out\r\n",
    "        \r\n",
    "\r\n",
    "    fig, ax = plt.subplots(1, 1)\r\n",
    "\r\n",
    "    ref_point = Point((0, 0))\r\n",
    "\r\n",
    "    rel_point = Straight.rel_points(ref_point, 6, 45)\r\n",
    "\r\n",
    "    rel_point_1 = Straight.rel_points(ref_point, rel_point[0].x/2, 0)\r\n",
    "\r\n",
    "    rel_point_2 = Straight.rel_points(ref_point, 1, 45)\r\n",
    "\r\n",
    "    rel_point_3 = Straight.rel_points(ref_point, 0.8, 0)\r\n",
    "\r\n",
    "    my_plotter(ax, (ref_point.x, rel_point[0].x), (ref_point.y, rel_point[0].y))\r\n",
    "    my_plotter(ax, (ref_point.x, rel_point[1].x), (ref_point.y, rel_point[1].y))\r\n",
    "\r\n",
    "    my_plotter(ax, (ref_point.x, rel_point_1[0].x), (ref_point.y, rel_point_1[0].y))\r\n",
    "    my_plotter(ax, (ref_point.x, rel_point_1[1].x), (ref_point.y, rel_point_1[1].y))\r\n",
    "\r\n",
    "    my_plotter(ax, (ref_point.x, rel_point_2[0].x), (ref_point.y, rel_point_2[0].y), param_dict={ 'marker': '' })\r\n",
    "    my_plotter(ax, (ref_point.x, rel_point_2[1].x), (ref_point.y, rel_point_2[1].y), param_dict={ 'marker': '' })\r\n",
    "\r\n",
    "    my_plotter(ax, (ref_point.x, rel_point_3[0].x), (ref_point.y, rel_point_3[0].y), param_dict={ 'marker': '' })\r\n",
    "    my_plotter(ax, (ref_point.x, rel_point_3[1].x), (ref_point.y, rel_point_3[1].y), param_dict={ 'marker': '' })\r\n",
    "\r\n",
    "    my_plotter(ax, (rel_point_3[0].x, rel_point_2[0].x), (rel_point_3[0].y, rel_point_2[0].y))\r\n",
    "    my_plotter(ax, (rel_point_3[1].x, rel_point_2[1].x), (rel_point_3[1].y, rel_point_2[1].y))\r\n"
   ]
  }
 ],
 "metadata": {
  "interpreter": {
   "hash": "0cd195dec2d2b25f4194f6ff4568186c7cceaad69311a3e0955b7fa0f8484170"
  },
  "kernelspec": {
   "display_name": "Python 3.9.1 64-bit ('arquivos-kZNpVHGx': virtualenvwrapper)",
   "name": "python3"
  },
  "language_info": {
   "codemirror_mode": {
    "name": "ipython",
    "version": 3
   },
   "file_extension": ".py",
   "mimetype": "text/x-python",
   "name": "python",
   "nbconvert_exporter": "python",
   "pygments_lexer": "ipython3",
   "version": "3.9.1"
  },
  "orig_nbformat": 4
 },
 "nbformat": 4,
 "nbformat_minor": 2
}